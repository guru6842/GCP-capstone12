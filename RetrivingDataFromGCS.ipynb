{
 "cells": [
  {
   "cell_type": "code",
   "execution_count": null,
   "id": "b5acff3b-cb34-463b-8d89-571d5820540f",
   "metadata": {
    "tags": []
   },
   "outputs": [],
   "source": [
    "!pip install google-cloud-storage\n"
   ]
  },
  {
   "cell_type": "code",
   "execution_count": null,
   "id": "263a170c-426e-4115-b231-dbea314eec81",
   "metadata": {
    "tags": []
   },
   "outputs": [],
   "source": [
    "from google.cloud import storage\n",
    "\n",
    "# Initialize GCS client\n",
    "client = storage.Client()\n",
    "\n",
    "# Define GCS bucket and file path\n",
    "bucket_name = 'datalake-storage143'\n",
    "blob_name = 'SalaryTable.csv'\n",
    "\n",
    "# Get the GCS bucket and blob\n",
    "bucket = client.get_bucket(bucket_name)\n",
    "blob = bucket.blob(blob_name)\n",
    "\n",
    "# Download the file to a local location\n",
    "local_file_path = 'SalaryTable1.csv'\n",
    "blob.download_to_filename(local_file_path)\n"
   ]
  },
  {
   "cell_type": "code",
   "execution_count": null,
   "id": "d3d0b12b-747c-494e-be94-721e6588aafe",
   "metadata": {
    "tags": []
   },
   "outputs": [],
   "source": [
    "import pandas as pd\n",
    "\n",
    "# Load the CSV file into a DataFrame\n",
    "df = pd.read_csv('SalaryTable1.csv')\n",
    "\n",
    "# Display the first few rows of the DataFrame\n",
    "df.head()\n"
   ]
  },
  {
   "cell_type": "code",
   "execution_count": null,
   "id": "6735f5d9-37a8-441a-9c1b-88c0608d62bc",
   "metadata": {
    "tags": []
   },
   "outputs": [],
   "source": [
    "df.tail(10)"
   ]
  },
  {
   "cell_type": "code",
   "execution_count": null,
   "id": "1f51e90f-ab91-4522-9af9-a21aa7094566",
   "metadata": {
    "tags": []
   },
   "outputs": [],
   "source": [
    "df.size"
   ]
  },
  {
   "cell_type": "code",
   "execution_count": null,
   "id": "88cb101a-e88b-4707-8367-96229c6ce1c1",
   "metadata": {
    "tags": []
   },
   "outputs": [],
   "source": [
    "df.shape"
   ]
  },
  {
   "cell_type": "code",
   "execution_count": null,
   "id": "6400af3e-2bbf-450b-b38e-6c7fd8b3345f",
   "metadata": {
    "tags": []
   },
   "outputs": [],
   "source": [
    "#df.loc[:,\"\"]"
   ]
  },
  {
   "cell_type": "code",
   "execution_count": null,
   "id": "566cbbbc-379f-4c34-869b-8cf7609ee5fd",
   "metadata": {
    "tags": []
   },
   "outputs": [],
   "source": []
  },
  {
   "cell_type": "code",
   "execution_count": null,
   "id": "a1d93993-3890-458e-b0f6-2f519ce146a4",
   "metadata": {
    "tags": []
   },
   "outputs": [],
   "source": [
    "import pandas as pd\n",
    "import matplotlib.pyplot as plt\n",
    "\n",
    "# ... (assuming you have `df` with a 'Job' column)\n",
    "\n",
    "job_count = df.groupby(\"Job\").size()\n",
    "\n",
    "plt.figure(figsize=(6, 4))  # Create a figure\n",
    "ax = plt.subplot()  # Create a subplot within the figure\n",
    "\n",
    "job_count.plot(kind='bar', color='skyblue', ax=ax)  # Plot on the subplot\n",
    "ax.title.set_text(\"Number of employees by job\")  # Add title using 'ax.title.set_text'\n",
    "\n",
    "plt.xlabel(\"Job\")\n",
    "plt.ylabel(\"Number of employees\")\n",
    "plt.xticks(rotation=45, ha='right')\n",
    "plt.tight_layout()\n",
    "plt.show()"
   ]
  },
  {
   "cell_type": "code",
   "execution_count": null,
   "id": "3c07bff4-23e8-4c32-a8a1-34e856e1c0bb",
   "metadata": {
    "tags": []
   },
   "outputs": [],
   "source": []
  },
  {
   "cell_type": "code",
   "execution_count": null,
   "id": "a068cc4f-48d5-45f4-af64-f9af221aa1d4",
   "metadata": {
    "tags": []
   },
   "outputs": [],
   "source": [
    "import matplotlib.pyplot as plt\n",
    "\n",
    "job_count = df.groupby(\"Job\").size()\n",
    "\n",
    "# Create a pie chart with different colors\n",
    "plt.figure(figsize=(5, 5))  # Adjust the figure size as needed\n",
    "wedges, texts, autotexts = plt.pie(job_count, labels=job_count.index, autopct=\"%1.1f%%\", startangle=140, colors=['skyblue', 'orange', 'green', 'purple'])  # Add additional colors as needed\n",
    "\n",
    "# Customize the pie chart (optional)\n",
    "plt.axis('equal')  # Equal aspect ratio ensures a circular pie chart\n",
    "plt.title(\"Number of employees by job\")\n",
    "plt.tight_layout()\n",
    "plt.show()\n"
   ]
  },
  {
   "cell_type": "code",
   "execution_count": null,
   "id": "6b021dc0-a43f-484a-8f25-73cf9c8e5c54",
   "metadata": {},
   "outputs": [],
   "source": []
  },
  {
   "cell_type": "code",
   "execution_count": null,
   "id": "a091a871-5d4c-4563-9e8a-feec5a7a441c",
   "metadata": {},
   "outputs": [],
   "source": [
    "import matplotlib as plt\n",
    "\n",
    "job_count=df.groupby(\"Job\").size()\n",
    "\n",
    "#plt.figure(figsize=(10,6))\n",
    "job_count.plot(kind='bar',color='skyblue')\n",
    "#plt.title(\"Number of employees  by job\")\n",
    "#plt.title(\"Your title\")\n",
    "\n",
    "\n",
    "\n",
    "#plt.xlabel(\"job\")\n",
    "#plt.ylabel(\"Number of employees\")\n",
    "#plt.xticks(rotation=45,ha='right')\n",
    "#plt.tight_layout()\n",
    "#plt.show()"
   ]
  }
 ],
 "metadata": {
  "environment": {
   "kernel": "conda-root-py",
   "name": "workbench-notebooks.m115",
   "type": "gcloud",
   "uri": "gcr.io/deeplearning-platform-release/workbench-notebooks:m115"
  },
  "kernelspec": {
   "display_name": "Python 3 (ipykernel) (Local) (Local)",
   "language": "python",
   "name": "conda-root-py"
  },
  "language_info": {
   "codemirror_mode": {
    "name": "ipython",
    "version": 3
   },
   "file_extension": ".py",
   "mimetype": "text/x-python",
   "name": "python",
   "nbconvert_exporter": "python",
   "pygments_lexer": "ipython3",
   "version": "3.10.13"
  }
 },
 "nbformat": 4,
 "nbformat_minor": 5
}
